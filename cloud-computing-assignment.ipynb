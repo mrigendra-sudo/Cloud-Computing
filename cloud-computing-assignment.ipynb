{
 "cells": [
  {
   "cell_type": "code",
   "execution_count": 1,
   "id": "798aa989",
   "metadata": {
    "_cell_guid": "b1076dfc-b9ad-4769-8c92-a6c4dae69d19",
    "_uuid": "8f2839f25d086af736a60e9eeb907d3b93b6e0e5",
    "execution": {
     "iopub.execute_input": "2022-11-15T05:13:05.505055Z",
     "iopub.status.busy": "2022-11-15T05:13:05.504244Z",
     "iopub.status.idle": "2022-11-15T05:13:06.711603Z",
     "shell.execute_reply": "2022-11-15T05:13:06.710653Z"
    },
    "papermill": {
     "duration": 1.215809,
     "end_time": "2022-11-15T05:13:06.714196",
     "exception": false,
     "start_time": "2022-11-15T05:13:05.498387",
     "status": "completed"
    },
    "tags": []
   },
   "outputs": [],
   "source": [
    "# This Python 3 environment comes with many helpful analytics libraries installed\n",
    "# It is defined by the kaggle/python Docker image: https://github.com/kaggle/docker-python\n",
    "# For example, here's several helpful packages to load\n",
    "\n",
    "import numpy as np # linear algebra\n",
    "import pandas as pd # data processing, CSV file I/O (e.g. pd.read_csv)\n",
    "\n",
    "# Input data files are available in the read-only \"../input/\" directory\n",
    "# For example, running this (by clicking run or pressing Shift+Enter) will list all files under the input directory\n",
    "import os\n",
    "from sklearn.ensemble import RandomForestClassifier\n",
    "from sklearn.metrics import accuracy_score\n",
    "from sklearn.model_selection import train_test_split\n",
    "import pickle"
   ]
  },
  {
   "cell_type": "code",
   "execution_count": 2,
   "id": "8463eda0",
   "metadata": {
    "execution": {
     "iopub.execute_input": "2022-11-15T05:13:06.725206Z",
     "iopub.status.busy": "2022-11-15T05:13:06.724402Z",
     "iopub.status.idle": "2022-11-15T05:13:06.746222Z",
     "shell.execute_reply": "2022-11-15T05:13:06.744908Z"
    },
    "papermill": {
     "duration": 0.030556,
     "end_time": "2022-11-15T05:13:06.748766",
     "exception": false,
     "start_time": "2022-11-15T05:13:06.718210",
     "status": "completed"
    },
    "tags": []
   },
   "outputs": [],
   "source": [
    "df = pd.read_csv('../input/heart-desease-data/heart_desease_data.csv')"
   ]
  },
  {
   "cell_type": "code",
   "execution_count": 3,
   "id": "8248cf75",
   "metadata": {
    "execution": {
     "iopub.execute_input": "2022-11-15T05:13:06.757387Z",
     "iopub.status.busy": "2022-11-15T05:13:06.756824Z",
     "iopub.status.idle": "2022-11-15T05:13:06.780665Z",
     "shell.execute_reply": "2022-11-15T05:13:06.779362Z"
    },
    "papermill": {
     "duration": 0.03088,
     "end_time": "2022-11-15T05:13:06.783150",
     "exception": false,
     "start_time": "2022-11-15T05:13:06.752270",
     "status": "completed"
    },
    "tags": []
   },
   "outputs": [
    {
     "data": {
      "text/html": [
       "<div>\n",
       "<style scoped>\n",
       "    .dataframe tbody tr th:only-of-type {\n",
       "        vertical-align: middle;\n",
       "    }\n",
       "\n",
       "    .dataframe tbody tr th {\n",
       "        vertical-align: top;\n",
       "    }\n",
       "\n",
       "    .dataframe thead th {\n",
       "        text-align: right;\n",
       "    }\n",
       "</style>\n",
       "<table border=\"1\" class=\"dataframe\">\n",
       "  <thead>\n",
       "    <tr style=\"text-align: right;\">\n",
       "      <th></th>\n",
       "      <th>age</th>\n",
       "      <th>sex</th>\n",
       "      <th>cp</th>\n",
       "      <th>trestbps</th>\n",
       "      <th>chol</th>\n",
       "      <th>fbs</th>\n",
       "      <th>restecg</th>\n",
       "      <th>thalach</th>\n",
       "      <th>exang</th>\n",
       "      <th>oldpeak</th>\n",
       "      <th>slope</th>\n",
       "      <th>ca</th>\n",
       "      <th>thal</th>\n",
       "      <th>target</th>\n",
       "    </tr>\n",
       "  </thead>\n",
       "  <tbody>\n",
       "    <tr>\n",
       "      <th>0</th>\n",
       "      <td>63</td>\n",
       "      <td>1</td>\n",
       "      <td>3</td>\n",
       "      <td>145</td>\n",
       "      <td>233</td>\n",
       "      <td>1</td>\n",
       "      <td>0</td>\n",
       "      <td>150</td>\n",
       "      <td>0</td>\n",
       "      <td>2.3</td>\n",
       "      <td>0</td>\n",
       "      <td>0</td>\n",
       "      <td>1</td>\n",
       "      <td>1</td>\n",
       "    </tr>\n",
       "    <tr>\n",
       "      <th>1</th>\n",
       "      <td>37</td>\n",
       "      <td>1</td>\n",
       "      <td>2</td>\n",
       "      <td>130</td>\n",
       "      <td>250</td>\n",
       "      <td>0</td>\n",
       "      <td>1</td>\n",
       "      <td>187</td>\n",
       "      <td>0</td>\n",
       "      <td>3.5</td>\n",
       "      <td>0</td>\n",
       "      <td>0</td>\n",
       "      <td>2</td>\n",
       "      <td>1</td>\n",
       "    </tr>\n",
       "    <tr>\n",
       "      <th>2</th>\n",
       "      <td>41</td>\n",
       "      <td>0</td>\n",
       "      <td>1</td>\n",
       "      <td>130</td>\n",
       "      <td>204</td>\n",
       "      <td>0</td>\n",
       "      <td>0</td>\n",
       "      <td>172</td>\n",
       "      <td>0</td>\n",
       "      <td>1.4</td>\n",
       "      <td>2</td>\n",
       "      <td>0</td>\n",
       "      <td>2</td>\n",
       "      <td>1</td>\n",
       "    </tr>\n",
       "    <tr>\n",
       "      <th>3</th>\n",
       "      <td>56</td>\n",
       "      <td>1</td>\n",
       "      <td>1</td>\n",
       "      <td>120</td>\n",
       "      <td>236</td>\n",
       "      <td>0</td>\n",
       "      <td>1</td>\n",
       "      <td>178</td>\n",
       "      <td>0</td>\n",
       "      <td>0.8</td>\n",
       "      <td>2</td>\n",
       "      <td>0</td>\n",
       "      <td>2</td>\n",
       "      <td>1</td>\n",
       "    </tr>\n",
       "    <tr>\n",
       "      <th>4</th>\n",
       "      <td>57</td>\n",
       "      <td>0</td>\n",
       "      <td>0</td>\n",
       "      <td>120</td>\n",
       "      <td>354</td>\n",
       "      <td>0</td>\n",
       "      <td>1</td>\n",
       "      <td>163</td>\n",
       "      <td>1</td>\n",
       "      <td>0.6</td>\n",
       "      <td>2</td>\n",
       "      <td>0</td>\n",
       "      <td>2</td>\n",
       "      <td>1</td>\n",
       "    </tr>\n",
       "  </tbody>\n",
       "</table>\n",
       "</div>"
      ],
      "text/plain": [
       "   age  sex  cp  trestbps  chol  fbs  restecg  thalach  exang  oldpeak  slope  \\\n",
       "0   63    1   3       145   233    1        0      150      0      2.3      0   \n",
       "1   37    1   2       130   250    0        1      187      0      3.5      0   \n",
       "2   41    0   1       130   204    0        0      172      0      1.4      2   \n",
       "3   56    1   1       120   236    0        1      178      0      0.8      2   \n",
       "4   57    0   0       120   354    0        1      163      1      0.6      2   \n",
       "\n",
       "   ca  thal  target  \n",
       "0   0     1       1  \n",
       "1   0     2       1  \n",
       "2   0     2       1  \n",
       "3   0     2       1  \n",
       "4   0     2       1  "
      ]
     },
     "execution_count": 3,
     "metadata": {},
     "output_type": "execute_result"
    }
   ],
   "source": [
    "df.head()"
   ]
  },
  {
   "cell_type": "code",
   "execution_count": 4,
   "id": "5a6c49ec",
   "metadata": {
    "execution": {
     "iopub.execute_input": "2022-11-15T05:13:06.791909Z",
     "iopub.status.busy": "2022-11-15T05:13:06.791532Z",
     "iopub.status.idle": "2022-11-15T05:13:07.007930Z",
     "shell.execute_reply": "2022-11-15T05:13:07.006925Z"
    },
    "papermill": {
     "duration": 0.223033,
     "end_time": "2022-11-15T05:13:07.009987",
     "exception": false,
     "start_time": "2022-11-15T05:13:06.786954",
     "status": "completed"
    },
    "tags": []
   },
   "outputs": [
    {
     "data": {
      "text/plain": [
       "<AxesSubplot:>"
      ]
     },
     "execution_count": 4,
     "metadata": {},
     "output_type": "execute_result"
    },
    {
     "data": {
      "image/png": "[encoded data removed]",
      "text/plain": [
       "<Figure size 432x288 with 1 Axes>"
      ]
     },
     "metadata": {
      "needs_background": "light"
     },
     "output_type": "display_data"
    }
   ],
   "source": [
    "df.target.hist()"
   ]
  },
  {
   "cell_type": "code",
   "execution_count": 5,
   "id": "058847ab",
   "metadata": {
    "execution": {
     "iopub.execute_input": "2022-11-15T05:13:07.018982Z",
     "iopub.status.busy": "2022-11-15T05:13:07.018652Z",
     "iopub.status.idle": "2022-11-15T05:13:07.028623Z",
     "shell.execute_reply": "2022-11-15T05:13:07.027658Z"
    },
    "papermill": {
     "duration": 0.016564,
     "end_time": "2022-11-15T05:13:07.030588",
     "exception": false,
     "start_time": "2022-11-15T05:13:07.014024",
     "status": "completed"
    },
    "tags": []
   },
   "outputs": [],
   "source": [
    "y = df['target']\n",
    "df.drop('target',axis=1,inplace=True)"
   ]
  },
  {
   "cell_type": "code",
   "execution_count": 6,
   "id": "77fc02b2",
   "metadata": {
    "execution": {
     "iopub.execute_input": "2022-11-15T05:13:07.039622Z",
     "iopub.status.busy": "2022-11-15T05:13:07.039292Z",
     "iopub.status.idle": "2022-11-15T05:13:07.045319Z",
     "shell.execute_reply": "2022-11-15T05:13:07.044434Z"
    },
    "papermill": {
     "duration": 0.012532,
     "end_time": "2022-11-15T05:13:07.047101",
     "exception": false,
     "start_time": "2022-11-15T05:13:07.034569",
     "status": "completed"
    },
    "tags": []
   },
   "outputs": [],
   "source": [
    "train_x, test_x, train_y, test_y = train_test_split(df,y)"
   ]
  },
  {
   "cell_type": "code",
   "execution_count": 7,
   "id": "95c01696",
   "metadata": {
    "execution": {
     "iopub.execute_input": "2022-11-15T05:13:07.056732Z",
     "iopub.status.busy": "2022-11-15T05:13:07.056026Z",
     "iopub.status.idle": "2022-11-15T05:13:07.060890Z",
     "shell.execute_reply": "2022-11-15T05:13:07.059731Z"
    },
    "papermill": {
     "duration": 0.011927,
     "end_time": "2022-11-15T05:13:07.062911",
     "exception": false,
     "start_time": "2022-11-15T05:13:07.050984",
     "status": "completed"
    },
    "tags": []
   },
   "outputs": [],
   "source": [
    "clf = RandomForestClassifier()"
   ]
  },
  {
   "cell_type": "code",
   "execution_count": 8,
   "id": "e05e17a8",
   "metadata": {
    "execution": {
     "iopub.execute_input": "2022-11-15T05:13:07.071633Z",
     "iopub.status.busy": "2022-11-15T05:13:07.071276Z",
     "iopub.status.idle": "2022-11-15T05:13:07.213104Z",
     "shell.execute_reply": "2022-11-15T05:13:07.212256Z"
    },
    "papermill": {
     "duration": 0.148686,
     "end_time": "2022-11-15T05:13:07.215335",
     "exception": false,
     "start_time": "2022-11-15T05:13:07.066649",
     "status": "completed"
    },
    "tags": []
   },
   "outputs": [
    {
     "data": {
      "text/plain": [
       "RandomForestClassifier()"
      ]
     },
     "execution_count": 8,
     "metadata": {},
     "output_type": "execute_result"
    }
   ],
   "source": [
    "clf.fit(train_x,train_y)"
   ]
  },
  {
   "cell_type": "code",
   "execution_count": 9,
   "id": "ea08c28c",
   "metadata": {
    "execution": {
     "iopub.execute_input": "2022-11-15T05:13:07.224383Z",
     "iopub.status.busy": "2022-11-15T05:13:07.224068Z",
     "iopub.status.idle": "2022-11-15T05:13:07.242366Z",
     "shell.execute_reply": "2022-11-15T05:13:07.241071Z"
    },
    "papermill": {
     "duration": 0.025471,
     "end_time": "2022-11-15T05:13:07.244792",
     "exception": false,
     "start_time": "2022-11-15T05:13:07.219321",
     "status": "completed"
    },
    "tags": []
   },
   "outputs": [],
   "source": [
    "preds =  clf.predict(test_x)"
   ]
  },
  {
   "cell_type": "code",
   "execution_count": 10,
   "id": "77f9a1d5",
   "metadata": {
    "execution": {
     "iopub.execute_input": "2022-11-15T05:13:07.255558Z",
     "iopub.status.busy": "2022-11-15T05:13:07.254425Z",
     "iopub.status.idle": "2022-11-15T05:13:07.259294Z",
     "shell.execute_reply": "2022-11-15T05:13:07.258645Z"
    },
    "papermill": {
     "duration": 0.011995,
     "end_time": "2022-11-15T05:13:07.260882",
     "exception": false,
     "start_time": "2022-11-15T05:13:07.248887",
     "status": "completed"
    },
    "tags": []
   },
   "outputs": [],
   "source": [
    "score = accuracy_score(test_y, preds)"
   ]
  },
  {
   "cell_type": "code",
   "execution_count": 11,
   "id": "36a5d3b1",
   "metadata": {
    "execution": {
     "iopub.execute_input": "2022-11-15T05:13:07.270272Z",
     "iopub.status.busy": "2022-11-15T05:13:07.269506Z",
     "iopub.status.idle": "2022-11-15T05:13:07.274612Z",
     "shell.execute_reply": "2022-11-15T05:13:07.274035Z"
    },
    "papermill": {
     "duration": 0.01154,
     "end_time": "2022-11-15T05:13:07.276257",
     "exception": false,
     "start_time": "2022-11-15T05:13:07.264717",
     "status": "completed"
    },
    "tags": []
   },
   "outputs": [
    {
     "data": {
      "text/plain": [
       "0.8157894736842105"
      ]
     },
     "execution_count": 11,
     "metadata": {},
     "output_type": "execute_result"
    }
   ],
   "source": [
    "score"
   ]
  },
  {
   "cell_type": "code",
   "execution_count": 12,
   "id": "a4da628e",
   "metadata": {
    "execution": {
     "iopub.execute_input": "2022-11-15T05:13:07.285720Z",
     "iopub.status.busy": "2022-11-15T05:13:07.285036Z",
     "iopub.status.idle": "2022-11-15T05:13:07.294338Z",
     "shell.execute_reply": "2022-11-15T05:13:07.293062Z"
    },
    "papermill": {
     "duration": 0.016143,
     "end_time": "2022-11-15T05:13:07.296333",
     "exception": false,
     "start_time": "2022-11-15T05:13:07.280190",
     "status": "completed"
    },
    "tags": []
   },
   "outputs": [],
   "source": [
    "with open('model.pickle', 'wb') as handle:\n",
    "    pickle.dump(clf, handle, protocol=pickle.HIGHEST_PROTOCOL)"
   ]
  },
  {
   "cell_type": "code",
   "execution_count": null,
   "id": "07045574",
   "metadata": {
    "papermill": {
     "duration": 0.003576,
     "end_time": "2022-11-15T05:13:07.303877",
     "exception": false,
     "start_time": "2022-11-15T05:13:07.300301",
     "status": "completed"
    },
    "tags": []
   },
   "outputs": [],
   "source": []
  }
 ],
 "metadata": {
  "kernelspec": {
   "display_name": "Python 3",
   "language": "python",
   "name": "python3"
  },
  "language_info": {
   "codemirror_mode": {
    "name": "ipython",
    "version": 3
   },
   "file_extension": ".py",
   "mimetype": "text/x-python",
   "name": "python",
   "nbconvert_exporter": "python",
   "pygments_lexer": "ipython3",
   "version": "3.7.12"
  },
  "papermill": {
   "default_parameters": {},
   "duration": 10.477277,
   "end_time": "2022-11-15T05:13:08.129269",
   "environment_variables": {},
   "exception": null,
   "input_path": "__notebook__.ipynb",
   "output_path": "__notebook__.ipynb",
   "parameters": {},
   "start_time": "2022-11-15T05:12:57.651992",
   "version": "2.3.4"
  }
 },
 "nbformat": 4,
 "nbformat_minor": 5
}
